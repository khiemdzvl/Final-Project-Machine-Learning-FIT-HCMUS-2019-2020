{
 "cells": [
  {
   "cell_type": "code",
   "execution_count": 1,
   "metadata": {},
   "outputs": [],
   "source": [
    "import numpy as np\n",
    "import matplotlib.pyplot as plt\n",
    "from sklearn import svm\n",
    "from sklearn.metrics import accuracy_score\n",
    "import pickle\n",
    "import gzip"
   ]
  },
  {
   "cell_type": "code",
   "execution_count": 2,
   "metadata": {},
   "outputs": [],
   "source": [
    "# Read data\n",
    "def read_mnist(mnist_file):\n",
    "    \"\"\"\n",
    "    Reads MNIST data.\n",
    "    \n",
    "    Parameters\n",
    "    ----------\n",
    "    mnist_file : string\n",
    "        The name of the MNIST file (e.g., 'mnist.pkl.gz').\n",
    "    \n",
    "    Returns\n",
    "    -------\n",
    "    (train_X, train_Y, val_X, val_Y, test_X, test_Y) : tuple\n",
    "        train_X : numpy array, shape (N=50000, d=784)\n",
    "            Input vectors of the training set.\n",
    "        train_Y: numpy array, shape (N=50000)\n",
    "            Outputs of the training set.\n",
    "        val_X : numpy array, shape (N=10000, d=784)\n",
    "            Input vectors of the validation set.\n",
    "        val_Y: numpy array, shape (N=10000)\n",
    "            Outputs of the validation set.\n",
    "        test_X : numpy array, shape (N=10000, d=784)\n",
    "            Input vectors of the test set.\n",
    "        test_Y: numpy array, shape (N=10000)\n",
    "            Outputs of the test set.\n",
    "    \"\"\"\n",
    "    f = gzip.open(mnist_file, 'rb')\n",
    "    train_data, val_data, test_data = pickle.load(f, encoding='latin1')\n",
    "    f.close()\n",
    "    \n",
    "    train_X, train_Y = train_data\n",
    "    val_X, val_Y = val_data\n",
    "    test_X, test_Y = test_data    \n",
    "    \n",
    "    return train_X, train_Y, val_X, val_Y, test_X, test_Y"
   ]
  },
  {
   "cell_type": "code",
   "execution_count": 3,
   "metadata": {},
   "outputs": [
    {
     "name": "stdout",
     "output_type": "stream",
     "text": [
      "train_X.shape = (50000, 784)\n",
      "train_Y.shape = (50000,)\n",
      "val_X.shape   = (10000, 784)\n",
      "val_Y.shape   = (10000,)\n",
      "test_X.shape  = (10000, 784)\n",
      "test_Y.shape  = (10000,)\n",
      "\n",
      "train_X: min = 0.000, max = 0.996\n",
      "train_Y: min = 0, max = 9\n"
     ]
    }
   ],
   "source": [
    "# Test\n",
    "train_X, train_Y, val_X, val_Y, test_X, test_Y = read_mnist('mnist.pkl.gz')\n",
    "\n",
    "print('train_X.shape =', train_X.shape)\n",
    "print('train_Y.shape =', train_Y.shape)\n",
    "print('val_X.shape   =', val_X.shape)\n",
    "print('val_Y.shape   =', val_Y.shape)\n",
    "print('test_X.shape  =', test_X.shape)\n",
    "print('test_Y.shape  =', test_Y.shape)\n",
    "\n",
    "print('\\ntrain_X: min = %.3f, max = %.3f' %(train_X.min(), train_X.max()))\n",
    "print('train_Y: min = %d, max = %d' %(train_Y.min(), train_Y.max()))"
   ]
  },
  {
   "cell_type": "code",
   "execution_count": 4,
   "metadata": {},
   "outputs": [],
   "source": [
    "def train(train_X, train_Y, file_model): \n",
    "    clf = svm.SVC(kernel = 'rbf', C = 100, gamma = 0.02)\n",
    "    clf.fit(train_X, train_Y)\n",
    "    pickle.dump(clf, open(file_model, \"wb\")) #save model"
   ]
  },
  {
   "cell_type": "code",
   "execution_count": 7,
   "metadata": {},
   "outputs": [],
   "source": [
    "def test(test_X, test_Y, file_model):\n",
    "    clf = pickle.load(open(file_model, 'rb')) # load model\n",
    "    y_pred = clf.predict(test_X)\n",
    "    return accuracy_score(test_Y, y_pred)"
   ]
  },
  {
   "cell_type": "code",
   "execution_count": 6,
   "metadata": {},
   "outputs": [
    {
     "name": "stdout",
     "output_type": "stream",
     "text": [
      "Wall time: 9min 20s\n",
      "1.0\n",
      "0.9852\n",
      "0.9847\n"
     ]
    }
   ],
   "source": [
    "%time train(train_X, train_Y, 'model.bin')\n",
    "print(test(train_X, train_Y, 'model.bin'))\n",
    "print(test(val_X, val_Y, 'model.bin'))\n",
    "print(test(test_X, test_Y, 'model.bin'))"
   ]
  },
  {
   "cell_type": "code",
   "execution_count": null,
   "metadata": {},
   "outputs": [],
   "source": []
  }
 ],
 "metadata": {
  "kernelspec": {
   "display_name": "Python 3",
   "language": "python",
   "name": "python3"
  },
  "language_info": {
   "codemirror_mode": {
    "name": "ipython",
    "version": 3
   },
   "file_extension": ".py",
   "mimetype": "text/x-python",
   "name": "python",
   "nbconvert_exporter": "python",
   "pygments_lexer": "ipython3",
   "version": "3.6.9"
  }
 },
 "nbformat": 4,
 "nbformat_minor": 2
}
